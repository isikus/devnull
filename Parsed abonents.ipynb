{
 "cells": [
  {
   "cell_type": "code",
   "execution_count": null,
   "metadata": {},
   "outputs": [],
   "source": [
    "import re\n",
    "import os"
   ]
  },
  {
   "cell_type": "code",
   "execution_count": null,
   "metadata": {},
   "outputs": [],
   "source": [
    "PATH_TO_FOLDER = \"OCR-errors\""
   ]
  },
  {
   "cell_type": "code",
   "execution_count": null,
   "metadata": {},
   "outputs": [],
   "source": [
    "def parse_folder(PATH_TO_FOLDER): # используя путь к папке, находим путь к файлам\n",
    "    pathes_to_files = []\n",
    "    for path, dirs, filenames in os.walk(PATH_TO_FOLDER):\n",
    "        for filename in filenames:\n",
    "            if '.txt' in filename:\n",
    "                path_to_file = os.path.join(path, filename)\n",
    "                pathes_to_files.append(path_to_file)\n",
    "    return pathes_to_files"
   ]
  },
  {
   "cell_type": "code",
   "execution_count": null,
   "metadata": {},
   "outputs": [],
   "source": [
    "def parse_file(): # открываем файлы\n",
    "    pathes_to_files = parse_folder(PATH_TO_FOLDER)\n",
    "    texts = []\n",
    "    for path_to_file in pathes_to_files:\n",
    "        with open(path_to_file, 'r', encoding='utf-8') as openfile:\n",
    "            text = openfile.read()\n",
    "            texts.append(text)\n",
    "    return texts"
   ]
  },
  {
   "cell_type": "code",
   "execution_count": null,
   "metadata": {},
   "outputs": [],
   "source": [
    "def parse_text(): # парсим файлы\n",
    "    texts = parse_file()\n",
    "    parsed_abonents = []\n",
    "    for text in texts:\n",
    "        abonents = re.findall(r\"[А-ЯЁ][а-яё\\s]+(?:-[А-ЯЁ][а-яё\\s]+)?[\\t\\s\\n][А-ЯЁ\\d\\w]+.*?(?:[А-ЯЁ]\\s?\\d?-{1,2}[\\s\\d:'ОЗбИЮ]{1,3}-{1,2}[\\s\\d:'ОЗбИЮ]{1,3})\", text, re.M)\n",
    "        abonents = [re.sub(r\"[\\t\\s\\n]+\", \" \", abonent) for abonent in abonents] # делаем так, чтобы одна строчка == один абонент\n",
    "        for abonent in abonents:\n",
    "            surnames_names_patronyms = re.findall(r\"^([А-ЯЁ\\s][а-яё\\s]+)\\s?(-[А-ЯЁ\\s][а-яё\\s]+)?([А-ЯЁ\\d\\w])\\s?([А-ЯЁ\\d\\w])\", abonent) # ищем ФИО\n",
    "            for surname_name_patronym in surnames_names_patronyms:\n",
    "                surname = surname_name_patronym[0]# отделяем фамилию\n",
    "                name = surname_name_patronym[2] # имя\n",
    "                patronym = surname_name_patronym[3] # и отчество\n",
    "\n",
    "            wrong_phone_numbers = re.findall(r\"[А-ЯЁ]{1,2}\\s?\\d?-.*\", abonent) # ищем телефонные номера\n",
    "            for wrong_phone_number in wrong_phone_numbers:\n",
    "                phone_number = re.sub(r\"O|О\", r\"0\", wrong_phone_number) # исправляем возможные ошибки при распознавании телефонных номеров\n",
    "                phone_number = re.sub(r\"З\", r\"3\", phone_number) # исправляем\n",
    "                phone_number = re.sub(r\"б\", r\"6\", phone_number) # продолжаем исправлять\n",
    "                phone_number = re.sub(r\"[:'^\\.,\\s]\", r\"\", phone_number) # все еще исправляем\n",
    "                phone_number = re.sub(r\"--\", r\"-\", phone_number) # почти закончили, но еще исправляем\n",
    "                phone_number = re.sub(r\"Ч\", r\"4\", phone_number)\n",
    "\n",
    "            wrong_addresses = re.findall(r\"(?<=\\s)([А-ЯЁ\\w\\d]\\s?[А-ЯЁ\\w\\d]\\s)([А-ЯЁа-яё\\d\\w]+.*)(?=\\s[А-ЯЁ]+\\d?-)\", abonent) # ищем адреса\n",
    "            for wrong_address in wrong_addresses:\n",
    "                wrong_address = wrong_address[1]\n",
    "                address = re.sub(\"„\", \".,\", wrong_address)\n",
    "                address = re.sub(\"\\^\", \".,\", address)\n",
    "\n",
    "            abonents_dict = {\"Surname\": surname, \"Name\": name, \"Patronym\": patronym, \"Phone Number\": phone_number, \"Address\": address} # складываем все в словари\n",
    "            parsed_abonents.append(abonents_dict) # словари складываем в список\n",
    "    return parsed_abonents # получаем список словарей, где один словарь == один абонент"
   ]
  },
  {
   "cell_type": "code",
   "execution_count": null,
   "metadata": {},
   "outputs": [],
   "source": [
    "parse_text()"
   ]
  },
  {
   "cell_type": "code",
   "execution_count": null,
   "metadata": {},
   "outputs": [],
   "source": [
    "def write_file(): # создаем новые файлы\n",
    "    #pathes_to_files = parse_folder(PATH_TO_FOLDER)\n",
    "    #for path_to_file in pathes_to_files:\n",
    "        #with open(path_to_file, 'r', encoding='utf-8') as openfile:\n",
    "            #path_to_new_file = re.sub('.txt', '_with_parsed_abonents.txt', path_to_file) # называем новые файлы\n",
    "    with open(\"Parsed abonents without some OCR-errors.txt\", 'w', encoding='utf-8') as writefile: # записываем в новые файлы словари, т.е. абонентов\n",
    "        parsed_abonents = parse_text()  # получаем список словарей, т.е. абонентов\n",
    "        for abonent in parsed_abonents: # проходимся по каждому словарю, т.е. абоненту, и записываем их ФИО, телефонный номер и адрес (см. ниже)\n",
    "            abonent = (\"{} {} {} {} {}\\n\".format(abonent[\"Surname\"], abonent[\"Name\"], abonent[\"Patronym\"], abonent[\"Address\"], abonent[\"Phone Number\"]))\n",
    "            writefile.write(abonent)"
   ]
  }
 ],
 "metadata": {
  "kernelspec": {
   "display_name": "Python 3",
   "language": "python",
   "name": "python3"
  },
  "language_info": {
   "codemirror_mode": {
    "name": "ipython",
    "version": 3
   },
   "file_extension": ".py",
   "mimetype": "text/x-python",
   "name": "python",
   "nbconvert_exporter": "python",
   "pygments_lexer": "ipython3",
   "version": "3.7.6"
  }
 },
 "nbformat": 4,
 "nbformat_minor": 4
}
